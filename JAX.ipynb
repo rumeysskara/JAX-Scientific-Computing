{
  "nbformat": 4,
  "nbformat_minor": 0,
  "metadata": {
    "colab": {
      "provenance": []
    },
    "kernelspec": {
      "name": "python3",
      "display_name": "Python 3"
    },
    "language_info": {
      "name": "python"
    },
    "accelerator": "TPU"
  },
  "cells": [
    {
      "cell_type": "markdown",
      "source": [
        "CPU"
      ],
      "metadata": {
        "id": "Oe0U1Xk0Ub_f"
      }
    },
    {
      "cell_type": "code",
      "execution_count": null,
      "metadata": {
        "id": "28141CLMirc3"
      },
      "outputs": [],
      "source": [
        "!pip install --upgrade pip\n",
        "!pip install --upgrade \"jax[cpu]\""
      ]
    },
    {
      "cell_type": "markdown",
      "source": [
        "GPU"
      ],
      "metadata": {
        "id": "vOh3hDZFUfGU"
      }
    },
    {
      "cell_type": "code",
      "source": [
        "!pip install --upgrade \"jax[cuda]\""
      ],
      "metadata": {
        "id": "lBy2dhpMR1wa"
      },
      "execution_count": null,
      "outputs": []
    },
    {
      "cell_type": "markdown",
      "source": [
        "## **Autodiff (jax.grad): temel aritmetik işlemlerden yararlanarak bir fonksiyonun türevini değerlendirmek için bir teknik.**\n",
        "\n"
      ],
      "metadata": {
        "id": "7137aX-2UtFa"
      }
    },
    {
      "cell_type": "code",
      "source": [
        "from jax import grad\n",
        "\n",
        "def func(x):\n",
        "  return x**2\n",
        "\n",
        "d_func = grad(func)"
      ],
      "metadata": {
        "id": "8ZeZxhUoNOD0"
      },
      "execution_count": null,
      "outputs": []
    },
    {
      "cell_type": "code",
      "source": [
        "d2_func = grad(d_func)"
      ],
      "metadata": {
        "id": "mymx5-BBdWTU"
      },
      "execution_count": null,
      "outputs": []
    },
    {
      "cell_type": "code",
      "source": [
        "x = 2.0\n",
        "result = d_func(x)"
      ],
      "metadata": {
        "id": "1b_bRNqxbzft"
      },
      "execution_count": null,
      "outputs": []
    },
    {
      "cell_type": "code",
      "source": [
        "print(result)"
      ],
      "metadata": {
        "colab": {
          "base_uri": "https://localhost:8080/"
        },
        "id": "ciZJqXZVN7kJ",
        "outputId": "78e11f62-79e9-48ca-d702-993560798d8f"
      },
      "execution_count": null,
      "outputs": [
        {
          "output_type": "stream",
          "name": "stdout",
          "text": [
            "4.0\n"
          ]
        }
      ]
    },
    {
      "cell_type": "markdown",
      "source": [
        "##**JIT derlemesi ( jax.jit): Hızlandırıcı işlemleri (GPU ve TPU)**\n",
        "\n",
        "\n",
        "\n",
        "\n",
        "\n",
        "\n"
      ],
      "metadata": {
        "id": "rneVJ8FQVUGj"
      }
    },
    {
      "cell_type": "code",
      "source": [
        "from jax import jit\n",
        "\n",
        "def funct(x):\n",
        "  return x*(2+x)\n",
        "\n",
        "c_funct = jit(funct)"
      ],
      "metadata": {
        "id": "nBQijsnWOPgi"
      },
      "execution_count": null,
      "outputs": []
    },
    {
      "cell_type": "code",
      "source": [
        "x = 2.0\n",
        "result = c_funct(x)"
      ],
      "metadata": {
        "id": "dSstrCYYgUAo"
      },
      "execution_count": null,
      "outputs": []
    },
    {
      "cell_type": "code",
      "source": [
        "print(result)"
      ],
      "metadata": {
        "colab": {
          "base_uri": "https://localhost:8080/"
        },
        "id": "_rLG5GJMOxBx",
        "outputId": "30b49939-9635-46cb-d42a-9fe5ffeaf398"
      },
      "execution_count": null,
      "outputs": [
        {
          "output_type": "stream",
          "name": "stdout",
          "text": [
            "8.0\n"
          ]
        }
      ]
    },
    {
      "cell_type": "markdown",
      "source": [
        "##**Paralelleştirme (jax.pmap): Kodu birden çok hızlandırıcı arasında otomatik olarak paralel hale getirir (CPU, GPU ve TPU)**\n"
      ],
      "metadata": {
        "id": "ZW9aqywoWfN1"
      }
    },
    {
      "cell_type": "code",
      "source": [
        "import jax.tools.colab_tpu\n",
        "jax.tools.colab_tpu.setup_tpu()\n",
        "import jax\n",
        "jax.devices()"
      ],
      "metadata": {
        "colab": {
          "base_uri": "https://localhost:8080/"
        },
        "id": "KIIK4oXlEcY4",
        "outputId": "515b3e24-0415-463c-8650-c78eaa0b8a12"
      },
      "execution_count": null,
      "outputs": [
        {
          "output_type": "execute_result",
          "data": {
            "text/plain": [
              "[TpuDevice(id=0, process_index=0, coords=(0,0,0), core_on_chip=0),\n",
              " TpuDevice(id=1, process_index=0, coords=(0,0,0), core_on_chip=1),\n",
              " TpuDevice(id=2, process_index=0, coords=(1,0,0), core_on_chip=0),\n",
              " TpuDevice(id=3, process_index=0, coords=(1,0,0), core_on_chip=1),\n",
              " TpuDevice(id=4, process_index=0, coords=(0,1,0), core_on_chip=0),\n",
              " TpuDevice(id=5, process_index=0, coords=(0,1,0), core_on_chip=1),\n",
              " TpuDevice(id=6, process_index=0, coords=(1,1,0), core_on_chip=0),\n",
              " TpuDevice(id=7, process_index=0, coords=(1,1,0), core_on_chip=1)]"
            ]
          },
          "metadata": {},
          "execution_count": 1
        }
      ]
    },
    {
      "cell_type": "code",
      "source": [
        "from jax import numpy as jnp\n",
        "from jax import pmap\n",
        "from jax import random\n",
        "\n",
        "key = random.PRNGKey(42)\n",
        "a = random.normal(key, shape=(3000,5000))\n",
        "b = random.normal(key, shape=(5000,3000))\n",
        "matrix_mul = lambda a, b: jnp.matmul(a, b)\n",
        "matrix_mul(a, b).shape"
      ],
      "metadata": {
        "colab": {
          "base_uri": "https://localhost:8080/"
        },
        "id": "iLSywd6rGhD3",
        "outputId": "014a7b58-1eae-4b6e-d989-7f2f7dab66ea"
      },
      "execution_count": null,
      "outputs": [
        {
          "output_type": "execute_result",
          "data": {
            "text/plain": [
              "(3000, 3000)"
            ]
          },
          "metadata": {},
          "execution_count": 7
        }
      ]
    },
    {
      "cell_type": "markdown",
      "source": [
        "## Birden fazla çekirdekte büyük veri kümeleriyle çalışırken, mevcut kaynaklardan en iyi şekilde yararlanmak için verileri paralelleştirmek önemlidir."
      ],
      "metadata": {
        "id": "S41nvA-3Kpaq"
      }
    },
    {
      "cell_type": "code",
      "source": [
        "n_devices = jax.local_device_count()\n",
        "a = random.normal(key, shape=(n_devices, 3000, 5000))\n",
        "b = random.normal(key, shape=(n_devices, 5000, 3000))\n",
        "parallel_matrix_mul = pmap(matrix_mul)\n",
        "parallel_matrix_mul(a, b).shape"
      ],
      "metadata": {
        "colab": {
          "base_uri": "https://localhost:8080/"
        },
        "id": "W2c-RaeIIwDi",
        "outputId": "8a57d11a-44bf-4721-b798-0f07f33e4127"
      },
      "execution_count": null,
      "outputs": [
        {
          "output_type": "execute_result",
          "data": {
            "text/plain": [
              "(8, 3000, 3000)"
            ]
          },
          "metadata": {},
          "execution_count": 8
        }
      ]
    },
    {
      "cell_type": "markdown",
      "source": [
        "## Vektörleştirme (jax.vmap), vektörleştirme işlemlerini paralel olarak hızlandırmak ve tekrarlayan işlemleri daha verimli hale getirmek için kullanılır.\n"
      ],
      "metadata": {
        "id": "_7JJMXN1WpcU"
      }
    },
    {
      "cell_type": "code",
      "source": [
        "import jax\n",
        "import jax.numpy as jnp\n",
        "\n",
        "def v_func(x):\n",
        "    return x ** 2\n",
        "\n",
        "matrix = jnp.array([[1, 2, 3],\n",
        "                    [4, 5, 6]])\n",
        "result = jax.vmap(v_func)(matrix)\n",
        "\n",
        "print(result)"
      ],
      "metadata": {
        "colab": {
          "base_uri": "https://localhost:8080/"
        },
        "id": "caa1WvQULbWy",
        "outputId": "234d9e10-3c34-42a9-84a3-cd3feb605d5f"
      },
      "execution_count": null,
      "outputs": [
        {
          "output_type": "stream",
          "name": "stdout",
          "text": [
            "[[ 1  4  9]\n",
            " [16 25 36]]\n"
          ]
        }
      ]
    },
    {
      "cell_type": "markdown",
      "source": [
        "## NumPy TEST"
      ],
      "metadata": {
        "id": "eSK6oeHxPBrw"
      }
    },
    {
      "cell_type": "code",
      "source": [
        "import numpy as np\n",
        "\n",
        "def fn(x):\n",
        "  return x + x*x + x*x*x\n",
        "\n",
        "x = np.random.randn(10000,10000).astype(dtype='float32')\n",
        "%timeit -n5 fn(x)"
      ],
      "metadata": {
        "colab": {
          "base_uri": "https://localhost:8080/"
        },
        "id": "wyRyALFvO7MU",
        "outputId": "48668c2c-70fb-4342-a950-47a8c61c4571"
      },
      "execution_count": null,
      "outputs": [
        {
          "output_type": "stream",
          "name": "stdout",
          "text": [
            "446 ms ± 16.9 ms per loop (mean ± std. dev. of 7 runs, 5 loops each)\n"
          ]
        }
      ]
    },
    {
      "cell_type": "code",
      "source": [
        "from jax import jit, random\n",
        "import jax.numpy as jnp\n",
        "\n",
        "jax_fn = jit(fn)\n",
        "\n",
        "key = random.PRNGKey(0)\n",
        "x = random.normal(key, (10000, 10000), dtype=jnp.float32)\n",
        "\n",
        "%timeit -n5 jax_fn(x).block_until_ready()"
      ],
      "metadata": {
        "colab": {
          "base_uri": "https://localhost:8080/"
        },
        "id": "azsipa4VRIO1",
        "outputId": "2cf43c12-7891-41dc-ded3-1b63ba123725"
      },
      "execution_count": null,
      "outputs": [
        {
          "output_type": "stream",
          "name": "stdout",
          "text": [
            "4.22 ms ± 802 µs per loop (mean ± std. dev. of 7 runs, 5 loops each)\n"
          ]
        }
      ]
    },
    {
      "cell_type": "markdown",
      "source": [
        "## **FLAX**\n",
        "\n",
        "kaynak: https://github.com/google/flax"
      ],
      "metadata": {
        "id": "Mo3D-y7yU7hh"
      }
    },
    {
      "cell_type": "code",
      "source": [
        "!pip install flax"
      ],
      "metadata": {
        "id": "4Y5GtBfQPEAg"
      },
      "execution_count": null,
      "outputs": []
    },
    {
      "cell_type": "code",
      "source": [
        "from typing import Sequence\n",
        "\n",
        "import numpy as np\n",
        "import jax\n",
        "import jax.numpy as jnp\n",
        "import flax.linen as nn\n",
        "\n",
        "class MLP(nn.Module):\n",
        "  features: Sequence[int]\n",
        "\n",
        "  @nn.compact\n",
        "  def __call__(self, x):\n",
        "    for feat in self.features[:-1]:\n",
        "      x = nn.relu(nn.Dense(feat)(x))\n",
        "    x = nn.Dense(self.features[-1])(x)\n",
        "    return x\n",
        "\n",
        "model = MLP([12, 8, 4])\n",
        "\n",
        "batch = jnp.ones((32, 10))\n",
        "variables = model.init(jax.random.PRNGKey(0), batch)\n",
        "output = model.apply(variables, batch)"
      ],
      "metadata": {
        "id": "GEvyTR2PPD9h"
      },
      "execution_count": null,
      "outputs": []
    },
    {
      "cell_type": "code",
      "source": [
        "class CNN(nn.Module):\n",
        "  @nn.compact\n",
        "  def __call__(self, x):\n",
        "    x = nn.Conv(features=32, kernel_size=(3, 3))(x)\n",
        "    x = nn.relu(x)\n",
        "    x = nn.avg_pool(x, window_shape=(2, 2), strides=(2, 2))\n",
        "    x = nn.Conv(features=64, kernel_size=(3, 3))(x)\n",
        "    x = nn.relu(x)\n",
        "    x = nn.avg_pool(x, window_shape=(2, 2), strides=(2, 2))\n",
        "    x = x.reshape((x.shape[0], -1))  # flatten\n",
        "    x = nn.Dense(features=256)(x)\n",
        "    x = nn.relu(x)\n",
        "    x = nn.Dense(features=10)(x)\n",
        "    x = nn.log_softmax(x)\n",
        "    return x\n",
        "\n",
        "model = CNN()\n",
        "batch = jnp.ones((32, 64, 64, 10))  # (N, H, W, C) format\n",
        "variables = model.init(jax.random.PRNGKey(0), batch)\n",
        "output = model.apply(variables, batch)"
      ],
      "metadata": {
        "id": "4lwoP9jWPjDn"
      },
      "execution_count": null,
      "outputs": []
    },
    {
      "cell_type": "code",
      "source": [
        "class AutoEncoder(nn.Module):\n",
        "  encoder_widths: Sequence[int]\n",
        "  decoder_widths: Sequence[int]\n",
        "  input_shape: Sequence[int]\n",
        "\n",
        "  def setup(self):\n",
        "    input_dim = np.prod(self.input_shape)\n",
        "    self.encoder = MLP(self.encoder_widths)\n",
        "    self.decoder = MLP(self.decoder_widths + (input_dim,))\n",
        "\n",
        "  def __call__(self, x):\n",
        "    return self.decode(self.encode(x))\n",
        "\n",
        "  def encode(self, x):\n",
        "    assert x.shape[1:] == self.input_shape\n",
        "    return self.encoder(jnp.reshape(x, (x.shape[0], -1)))\n",
        "\n",
        "  def decode(self, z):\n",
        "    z = self.decoder(z)\n",
        "    x = nn.sigmoid(z)\n",
        "    x = jnp.reshape(x, (x.shape[0],) + self.input_shape)\n",
        "    return x\n",
        "\n",
        "model = AutoEncoder(encoder_widths=[20, 10, 5],\n",
        "                    decoder_widths=[5, 10, 20],\n",
        "                    input_shape=(12,))\n",
        "batch = jnp.ones((16, 12))\n",
        "variables = model.init(jax.random.PRNGKey(0), batch)\n",
        "encoded = model.apply(variables, batch, method=model.encode)\n",
        "decoded = model.apply(variables, encoded, method=model.decode)"
      ],
      "metadata": {
        "id": "jn0jo9e6Ui-W"
      },
      "execution_count": null,
      "outputs": []
    },
    {
      "cell_type": "code",
      "source": [],
      "metadata": {
        "id": "dzB5jc6AUwB5"
      },
      "execution_count": null,
      "outputs": []
    }
  ]
}